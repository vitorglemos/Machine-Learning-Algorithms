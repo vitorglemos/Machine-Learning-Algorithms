{
 "cells": [
  {
   "cell_type": "markdown",
   "metadata": {},
   "source": [
    "## Convolutional Neural Networks - Deep Learning"
   ]
  },
  {
   "cell_type": "code",
   "execution_count": 1,
   "metadata": {},
   "outputs": [
    {
     "name": "stderr",
     "output_type": "stream",
     "text": [
      "C:\\ProgramData\\Anaconda3\\lib\\site-packages\\sklearn\\cross_validation.py:41: DeprecationWarning: This module was deprecated in version 0.18 in favor of the model_selection module into which all the refactored classes and functions are moved. Also note that the interface of the new CV iterators are different from that of this module. This module will be removed in 0.20.\n",
      "  \"This module will be removed in 0.20.\", DeprecationWarning)\n",
      "Using TensorFlow backend.\n"
     ]
    }
   ],
   "source": [
    "\n",
    "import numpy as np\n",
    "import matplotlib.pyplot as plt\n",
    "\n",
    "from sklearn.utils import shuffle\n",
    "from sklearn.cross_validation import train_test_split\n",
    "from numpy import *\n",
    "\n",
    "from keras import backend as K\n",
    "K.set_image_dim_ordering('th')\n",
    "\n",
    "from keras.utils import np_utils\n",
    "from keras.models import Sequential\n",
    "from keras.layers.core import Dense, Dropout, Activation, Flatten\n",
    "from keras.layers.convolutional import Conv2D, MaxPooling2D\n",
    "from keras.optimizers import SGD,RMSprop,adam\n",
    "from keras.constraints import maxnorm\n",
    "from PIL import Image\n",
    "from PIL import ImageMath\n",
    "import os,cv2"
   ]
  },
  {
   "cell_type": "code",
   "execution_count": 2,
   "metadata": {
    "collapsed": true
   },
   "outputs": [],
   "source": [
    "#Local onde estão os arquivos para treinamento  \n",
    "# Controle para evitar que a rede seja novamente treinada no arquivo test.py\n",
    "files_training_gray = \"input_data_resized\" #MUDAR\n",
    "#Numero de épocas da imagem\n",
    "nb_epoch = 80\n",
    "#Numero de pixels da imagem\n",
    "rows, cols = 90, 90\n",
    "#Numero de canais da imagem\n",
    "n_channels = 1;batch_size = 32; n_classes = 2\n",
    "#Numero de filtros\n",
    "n_filter = 32; n_pool = 2;n_conv = 3\n",
    "\n",
    "def crop_image(image2,directory_save_crop):\n",
    "    k1 = 0;k2 = 90;i = 0;j = 90\n",
    "    for k in range(10):\n",
    "        for m in range(14):\n",
    "            im3 = image2.crop((i,k1,j,k2+k1))\n",
    "            im3 = im3.convert('L')\n",
    "            im3.save(directory_save_crop +\"\\\\img\"+str(k) + str(m)+\".png\")\n",
    "            i = i + 27;j = i + 90\n",
    "\n",
    "        k1+=27;i = 0;j = 90\n",
    "\n",
    "def test_image(Directory):\n",
    "    directory_save_crop = \"CropImage\" #MUDAR\n",
    "    image2 = Image.open(Directory)\n",
    "    image2 = image2.resize((450,270))\n",
    "    crop_image(image2,directory_save_crop)\n",
    "    \n",
    "    testing2 = os.listdir(directory_save_crop)\n",
    "    other = os.listdir(directory_save_crop)\n",
    "    matrizImagens = array([array(Image.open(directory_save_crop +'\\\\'+i)).flatten()\n",
    "                     for i in other],'f')\n",
    "\n",
    "    test = matrizImagens;test = test.reshape(test.shape[0],1,90,90)\n",
    "    test = test.astype(\"float32\")\n",
    "    test /= 255\n",
    "    parede_prob = model.predict_classes(test)\n",
    "    celular_prob = model.predict_proba(test)\n",
    "    maior = 0;indice = -1;probabilidade = 0\n",
    "    for i in range(len(parede_prob)):\n",
    "        if(parede_prob[i] == 1):\n",
    "            if(maior < celular_prob[i,1]):\n",
    "                maior = celular_prob[i,1]\n",
    "                indice = i\n",
    "                probabilidade = celular_prob[i,1]\n",
    "\n",
    "    for i in range(len(parede_prob)):\n",
    "        parede_prob[i] = 0\n",
    "        if(i == indice):\n",
    "            parede_prob[i] = 1\n",
    "\n",
    "    x = matrizImagens[indice].reshape(90,90)\n",
    "    print(\"Probabilidade:\",\"%.2f\"%(100 * probabilidade),\"%\")\n",
    "    plt.imshow(x);plt.show()\n",
    "\n",
    "def preparar_arquivos_1():\n",
    "    files_gray = os.listdir(files_training_gray)\n",
    "    num_samples = size(files_gray)\n",
    "    im1 = array(Image.open('input_data_resized'+'\\\\'+files_gray[0]))\n",
    "\n",
    "    immatrix = array([array(Image.open('input_data_resized\\\\img'+str(im2)+\".png\")).flatten()\n",
    "                   for im2 in range(num_samples)],'f')\n",
    "\n",
    "    label = np.ones((num_samples,),dtype=int)\n",
    "    label[0:120] = 0;label[120:] = 1\n",
    "   # label[0:16]= 1; label[16:]=0;\n",
    "    img = immatrix[0].reshape(rows,cols)\n",
    "\n",
    "    print(\"If value = 0 , then : THERE IS NOT A CELLPHONE !\")\n",
    "    print(\"If value = 1 , then : THERE IS A CELLPHONE !\")\n",
    "    data,Label = shuffle(immatrix,label,random_state=2)\n",
    "    train_data = [data,Label]\n",
    "    return train_data\n",
    "    \n",
    "def preparar_arquivos_2(train_data):\n",
    "    (X,y) = (train_data[0],train_data[1])\n",
    "    X_train, X_test,y_train,y_test = train_test_split(X,y,test_size=0.0,random_state=4)\n",
    "    X_train = X_train.reshape(X_train.shape[0],1,rows,cols)\n",
    "    X_test = X_test.reshape(X_test.shape[0],1,rows,cols)\n",
    "    X_train = X_train.astype(\"float32\")\n",
    "    X_test = X_test.astype(\"float32\")\n",
    "    X_train /= 255\n",
    "    X_test /= 255\n",
    "\n",
    "    Y_train = np_utils.to_categorical(y_train,n_classes)\n",
    "    Y_test = np_utils.to_categorical(y_test,n_classes)\n",
    "    return X_train,Y_train\n",
    "    \n",
    "def open_file(fname):\n",
    "    model.load_weights(fname)\n",
    "    \n",
    "def train_Neural_Network(X_train,Y_train):\n",
    "    print(\"TREINANDO A REDE NEURAL ! ! !\")\n",
    "    history = model.fit(X_train,Y_train,batch_size = batch_size, epochs = nb_epoch, verbose=1)\n",
    "    print(\"******************* FIM DO TREINAMENTO **************************\")\n",
    "    fname = \"save_weights.hdf5\"\n",
    "    model.save_weights(fname,overwrite=True)\n",
    "    return history \n",
    "\n",
    "def show_graphic(history):\n",
    "    plt.plot(history.history['acc']);plt.title('Model Accuracy')\n",
    "    plt.ylabel('Accuracy');plt.xlabel('Epocas')\n",
    "    plt.legend(['treinamento'], loc='upper left');plt.grid();plt.show()\n",
    "    \n",
    "    plt.plot(history.history['loss']);plt.title('Model Loss')\n",
    "    plt.ylabel('Loss');plt.xlabel('Epocas');plt.legend(['treinamento'], loc='upper left')\n",
    "    plt.grid();plt.show()"
   ]
  },
  {
   "cell_type": "code",
   "execution_count": 3,
   "metadata": {
    "scrolled": true
   },
   "outputs": [
    {
     "name": "stderr",
     "output_type": "stream",
     "text": [
      "C:\\ProgramData\\Anaconda3\\lib\\site-packages\\ipykernel_launcher.py:3: UserWarning: Update your `Conv2D` call to the Keras 2 API: `Conv2D(32, (3, 3), input_shape=(1, 90, 90..., padding=\"same\")`\n",
      "  This is separate from the ipykernel package so we can avoid doing imports until\n"
     ]
    }
   ],
   "source": [
    "model= Sequential()\n",
    "\n",
    "model.add(Conv2D(n_filter,(n_conv,n_conv),border_mode='same',input_shape=(n_channels,rows,cols)))\n",
    "convout1 = model.add(Activation('relu'))\n",
    "model.add(Conv2D(n_filter,(n_conv,n_conv)))\n",
    "model.add(Activation('relu'))\n",
    "model.add(MaxPooling2D(pool_size=(n_pool,n_pool)))\n",
    "model.add(Dropout(0.5))\n",
    "\n",
    "model.add(Conv2D(64,(n_conv,n_conv)))\n",
    "model.add(Activation('relu'))\n",
    "model.add(MaxPooling2D(pool_size=(n_pool,n_pool)))\n",
    "model.add(Dropout(0.5))\n",
    "\n",
    "model.add(Flatten())\n",
    "model.add(Dense(128))\n",
    "model.add(Dropout(0.5))\n",
    "model.add(Dense(n_classes))\n",
    "model.add(Activation('softmax'));\n",
    "\n",
    "model.compile(loss='categorical_crossentropy', optimizer='adam',metrics=[\"accuracy\"])"
   ]
  },
  {
   "cell_type": "markdown",
   "metadata": {},
   "source": [
    "## Training Neural Network"
   ]
  },
  {
   "cell_type": "code",
   "execution_count": 4,
   "metadata": {},
   "outputs": [
    {
     "name": "stdout",
     "output_type": "stream",
     "text": [
      "If value = 0 , then : THERE IS NOT A CELLPHONE !\n",
      "If value = 1 , then : THERE IS A CELLPHONE !\n",
      "************************************************\n",
      "TREINANDO A REDE NEURAL ! ! !\n",
      "Epoch 1/80\n",
      "245/245 [==============================] - 15s 61ms/step - loss: 7.2060 - acc: 0.4857\n",
      "Epoch 2/80\n",
      "245/245 [==============================] - 2s 9ms/step - loss: 7.8946 - acc: 0.5102\n",
      "Epoch 3/80\n",
      "245/245 [==============================] - 2s 9ms/step - loss: 7.8946 - acc: 0.5102\n",
      "Epoch 4/80\n",
      "245/245 [==============================] - 2s 9ms/step - loss: 7.8946 - acc: 0.5102\n",
      "Epoch 5/80\n",
      "245/245 [==============================] - 2s 9ms/step - loss: 7.8946 - acc: 0.5102\n",
      "Epoch 6/80\n",
      "245/245 [==============================] - 2s 9ms/step - loss: 7.8946 - acc: 0.5102\n",
      "Epoch 7/80\n",
      "245/245 [==============================] - 2s 9ms/step - loss: 7.8946 - acc: 0.5102\n",
      "Epoch 8/80\n",
      "245/245 [==============================] - 2s 9ms/step - loss: 7.8946 - acc: 0.5102\n",
      "Epoch 9/80\n",
      "245/245 [==============================] - 2s 9ms/step - loss: 7.8946 - acc: 0.5102\n",
      "Epoch 10/80\n",
      "245/245 [==============================] - 2s 9ms/step - loss: 7.8946 - acc: 0.5102\n",
      "Epoch 11/80\n",
      "245/245 [==============================] - 2s 9ms/step - loss: 7.8946 - acc: 0.5102\n",
      "Epoch 12/80\n",
      "245/245 [==============================] - 2s 9ms/step - loss: 7.8946 - acc: 0.5102\n",
      "Epoch 13/80\n",
      "245/245 [==============================] - 2s 9ms/step - loss: 7.8946 - acc: 0.5102\n",
      "Epoch 14/80\n",
      "245/245 [==============================] - 2s 9ms/step - loss: 7.8946 - acc: 0.5102\n",
      "Epoch 15/80\n",
      "245/245 [==============================] - 2s 9ms/step - loss: 7.8946 - acc: 0.5102\n",
      "Epoch 16/80\n",
      "245/245 [==============================] - 2s 9ms/step - loss: 7.8946 - acc: 0.5102\n",
      "Epoch 17/80\n",
      "245/245 [==============================] - 2s 9ms/step - loss: 7.8946 - acc: 0.5102\n",
      "Epoch 18/80\n",
      "245/245 [==============================] - 2s 9ms/step - loss: 7.8946 - acc: 0.5102\n",
      "Epoch 19/80\n",
      "245/245 [==============================] - 2s 9ms/step - loss: 7.8946 - acc: 0.5102\n",
      "Epoch 20/80\n",
      "245/245 [==============================] - 2s 9ms/step - loss: 7.8946 - acc: 0.5102\n",
      "Epoch 21/80\n",
      "245/245 [==============================] - 2s 9ms/step - loss: 7.8946 - acc: 0.5102\n",
      "Epoch 22/80\n",
      "245/245 [==============================] - 2s 9ms/step - loss: 7.8946 - acc: 0.5102\n",
      "Epoch 23/80\n",
      "245/245 [==============================] - 2s 9ms/step - loss: 7.8946 - acc: 0.5102\n",
      "Epoch 24/80\n",
      "245/245 [==============================] - 2s 9ms/step - loss: 7.8946 - acc: 0.5102\n",
      "Epoch 25/80\n",
      "245/245 [==============================] - 2s 9ms/step - loss: 7.8946 - acc: 0.5102\n",
      "Epoch 26/80\n",
      "245/245 [==============================] - 2s 9ms/step - loss: 7.8946 - acc: 0.5102\n",
      "Epoch 27/80\n",
      "245/245 [==============================] - 2s 9ms/step - loss: 7.8946 - acc: 0.5102\n",
      "Epoch 28/80\n",
      "245/245 [==============================] - 2s 9ms/step - loss: 7.8946 - acc: 0.5102\n",
      "Epoch 29/80\n",
      "245/245 [==============================] - 2s 9ms/step - loss: 7.8946 - acc: 0.5102\n",
      "Epoch 30/80\n",
      "245/245 [==============================] - 2s 9ms/step - loss: 7.8946 - acc: 0.5102\n",
      "Epoch 31/80\n",
      "245/245 [==============================] - 2s 9ms/step - loss: 7.8946 - acc: 0.5102\n",
      "Epoch 32/80\n",
      "245/245 [==============================] - 2s 9ms/step - loss: 7.8946 - acc: 0.5102\n",
      "Epoch 33/80\n",
      "245/245 [==============================] - 2s 9ms/step - loss: 7.8946 - acc: 0.5102\n",
      "Epoch 34/80\n",
      "245/245 [==============================] - 2s 9ms/step - loss: 7.8946 - acc: 0.5102\n",
      "Epoch 35/80\n",
      "245/245 [==============================] - 2s 9ms/step - loss: 7.8946 - acc: 0.5102\n",
      "Epoch 36/80\n",
      "245/245 [==============================] - 2s 9ms/step - loss: 7.8946 - acc: 0.5102\n",
      "Epoch 37/80\n",
      "245/245 [==============================] - 2s 9ms/step - loss: 7.8946 - acc: 0.5102\n",
      "Epoch 38/80\n",
      "245/245 [==============================] - 2s 9ms/step - loss: 7.8946 - acc: 0.5102\n",
      "Epoch 39/80\n",
      "245/245 [==============================] - 2s 9ms/step - loss: 7.8946 - acc: 0.5102\n",
      "Epoch 40/80\n",
      "245/245 [==============================] - 2s 9ms/step - loss: 7.8946 - acc: 0.5102\n",
      "Epoch 41/80\n",
      "245/245 [==============================] - 2s 9ms/step - loss: 7.8946 - acc: 0.5102\n",
      "Epoch 42/80\n",
      "245/245 [==============================] - 2s 9ms/step - loss: 7.8946 - acc: 0.5102\n",
      "Epoch 43/80\n",
      "245/245 [==============================] - 2s 9ms/step - loss: 7.8946 - acc: 0.5102\n",
      "Epoch 44/80\n",
      "245/245 [==============================] - 2s 9ms/step - loss: 7.8946 - acc: 0.5102\n",
      "Epoch 45/80\n",
      "245/245 [==============================] - 2s 9ms/step - loss: 7.8946 - acc: 0.5102\n",
      "Epoch 46/80\n",
      "245/245 [==============================] - 2s 9ms/step - loss: 7.8946 - acc: 0.5102\n",
      "Epoch 47/80\n",
      "245/245 [==============================] - 2s 9ms/step - loss: 7.8946 - acc: 0.5102\n",
      "Epoch 48/80\n",
      "245/245 [==============================] - 2s 9ms/step - loss: 7.8946 - acc: 0.5102\n",
      "Epoch 49/80\n",
      "245/245 [==============================] - 2s 9ms/step - loss: 7.8946 - acc: 0.5102\n",
      "Epoch 50/80\n",
      "245/245 [==============================] - 2s 9ms/step - loss: 7.8946 - acc: 0.5102\n",
      "Epoch 51/80\n",
      "245/245 [==============================] - 2s 9ms/step - loss: 7.8946 - acc: 0.5102\n",
      "Epoch 52/80\n",
      "245/245 [==============================] - 2s 9ms/step - loss: 7.8946 - acc: 0.5102\n",
      "Epoch 53/80\n",
      "245/245 [==============================] - 2s 9ms/step - loss: 7.8946 - acc: 0.5102\n",
      "Epoch 54/80\n",
      "245/245 [==============================] - 2s 9ms/step - loss: 7.8946 - acc: 0.5102\n",
      "Epoch 55/80\n",
      "245/245 [==============================] - 2s 9ms/step - loss: 7.8946 - acc: 0.5102\n",
      "Epoch 56/80\n",
      "245/245 [==============================] - 2s 9ms/step - loss: 7.8946 - acc: 0.5102\n",
      "Epoch 57/80\n",
      "245/245 [==============================] - 2s 9ms/step - loss: 7.8946 - acc: 0.5102\n",
      "Epoch 58/80\n",
      "245/245 [==============================] - 2s 9ms/step - loss: 7.8946 - acc: 0.5102\n",
      "Epoch 59/80\n",
      "245/245 [==============================] - 2s 9ms/step - loss: 7.8946 - acc: 0.5102\n",
      "Epoch 60/80\n",
      "245/245 [==============================] - 2s 9ms/step - loss: 7.8946 - acc: 0.5102\n",
      "Epoch 61/80\n",
      "245/245 [==============================] - 2s 9ms/step - loss: 7.8946 - acc: 0.5102\n",
      "Epoch 62/80\n",
      "245/245 [==============================] - 2s 9ms/step - loss: 7.8946 - acc: 0.5102\n",
      "Epoch 63/80\n",
      "245/245 [==============================] - 2s 9ms/step - loss: 7.8946 - acc: 0.5102\n",
      "Epoch 64/80\n",
      "245/245 [==============================] - 2s 9ms/step - loss: 7.8946 - acc: 0.5102\n",
      "Epoch 65/80\n",
      "245/245 [==============================] - 2s 9ms/step - loss: 7.8946 - acc: 0.5102\n",
      "Epoch 66/80\n",
      "245/245 [==============================] - 2s 9ms/step - loss: 7.8946 - acc: 0.5102\n",
      "Epoch 67/80\n",
      "245/245 [==============================] - 2s 9ms/step - loss: 7.8946 - acc: 0.5102\n",
      "Epoch 68/80\n",
      "245/245 [==============================] - 2s 9ms/step - loss: 7.8946 - acc: 0.5102\n",
      "Epoch 69/80\n",
      "245/245 [==============================] - 2s 9ms/step - loss: 7.8946 - acc: 0.5102\n",
      "Epoch 70/80\n",
      "245/245 [==============================] - 2s 9ms/step - loss: 7.8946 - acc: 0.5102\n",
      "Epoch 71/80\n",
      "245/245 [==============================] - 2s 9ms/step - loss: 7.8946 - acc: 0.5102\n",
      "Epoch 72/80\n",
      "245/245 [==============================] - 2s 9ms/step - loss: 7.8946 - acc: 0.5102\n",
      "Epoch 73/80\n",
      "245/245 [==============================] - 2s 9ms/step - loss: 7.8946 - acc: 0.5102\n",
      "Epoch 74/80\n",
      "245/245 [==============================] - 2s 9ms/step - loss: 7.8946 - acc: 0.5102\n",
      "Epoch 75/80\n",
      "245/245 [==============================] - 2s 9ms/step - loss: 7.8946 - acc: 0.5102\n",
      "Epoch 76/80\n",
      "245/245 [==============================] - 2s 9ms/step - loss: 7.8946 - acc: 0.5102\n",
      "Epoch 77/80\n",
      "245/245 [==============================] - 2s 9ms/step - loss: 7.8946 - acc: 0.5102\n",
      "Epoch 78/80\n",
      "245/245 [==============================] - 2s 9ms/step - loss: 7.8946 - acc: 0.5102\n",
      "Epoch 79/80\n",
      "245/245 [==============================] - 2s 9ms/step - loss: 7.8946 - acc: 0.5102\n",
      "Epoch 80/80\n",
      "245/245 [==============================] - 2s 9ms/step - loss: 7.8946 - acc: 0.5102\n",
      "******************* FIM DO TREINAMENTO **************************\n"
     ]
    }
   ],
   "source": [
    "train_data = preparar_arquivos_1()\n",
    "X_train, Y_train = preparar_arquivos_2(train_data)\n",
    "print(\"************************************************\")\n",
    "history = train_Neural_Network(X_train,Y_train)"
   ]
  },
  {
   "cell_type": "markdown",
   "metadata": {},
   "source": [
    "## Show Accuracy "
   ]
  },
  {
   "cell_type": "code",
   "execution_count": 5,
   "metadata": {},
   "outputs": [
    {
     "data": {
      "image/png": "[encoded data removed]",
      "text/plain": [
       "<matplotlib.figure.Figure at 0x1dce62c63c8>"
      ]
     },
     "metadata": {},
     "output_type": "display_data"
    },
    {
     "data": {
      "image/png": "[encoded data removed]",
      "text/plain": [
       "<matplotlib.figure.Figure at 0x1dcdc2de080>"
      ]
     },
     "metadata": {},
     "output_type": "display_data"
    }
   ],
   "source": [
    "show_graphic(history)"
   ]
  },
  {
   "cell_type": "markdown",
   "metadata": {},
   "source": [
    "## Testing Samples "
   ]
  },
  {
   "cell_type": "code",
   "execution_count": 6,
   "metadata": {},
   "outputs": [
    {
     "name": "stdout",
     "output_type": "stream",
     "text": [
      "Probabilidade: 100.00 %\n"
     ]
    },
    {
     "data": {
      "image/png": "[encoded data removed]",
      "text/plain": [
       "<matplotlib.figure.Figure at 0x1dcdb099080>"
      ]
     },
     "metadata": {},
     "output_type": "display_data"
    }
   ],
   "source": [
    "caminho_imagem_test = \"test_samples/pp.jpg\"\n",
    "test_image(caminho_imagem_test)"
   ]
  },
  {
   "cell_type": "code",
   "execution_count": null,
   "metadata": {
    "collapsed": true
   },
   "outputs": [],
   "source": []
  }
 ],
 "metadata": {
  "kernelspec": {
   "display_name": "Python 3",
   "language": "python",
   "name": "python3"
  },
  "language_info": {
   "codemirror_mode": {
    "name": "ipython",
    "version": 3
   },
   "file_extension": ".py",
   "mimetype": "text/x-python",
   "name": "python",
   "nbconvert_exporter": "python",
   "pygments_lexer": "ipython3",
   "version": "3.6.3"
  }
 },
 "nbformat": 4,
 "nbformat_minor": 2
}
